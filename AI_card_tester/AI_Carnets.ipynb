{
  "cells": [
    {
      "cell_type": "code",
      "execution_count": null,
      "metadata": {
        "colab": {
          "base_uri": "https://localhost:8080/"
        },
        "id": "I8Vfsn2Q1DVp",
        "outputId": "7c819d5f-7927-40ac-e484-1f113e9ac70a"
      },
      "outputs": [],
      "source": [
        "# !unzip -o /content/dataset.zip -d /content/"
      ]
    },
    {
      "cell_type": "code",
      "execution_count": null,
      "metadata": {
        "id": "1sD2zF6v7Wsp"
      },
      "outputs": [],
      "source": [
        "# !rm -rf /content/dataset"
      ]
    },
    {
      "cell_type": "code",
      "execution_count": null,
      "metadata": {
        "id": "l5CBi-yF4hm5"
      },
      "outputs": [],
      "source": [
        "'''\n",
        "import os\n",
        "import cv2\n",
        "\n",
        "def convert_images_to_jpeg(folder_path):\n",
        "    for filename in os.listdir(folder_path):\n",
        "        file_path = os.path.join(folder_path, filename)\n",
        "        if os.path.isfile(file_path):\n",
        "            # Cargar la imagen\n",
        "            img = cv2.imread(file_path)\n",
        "\n",
        "            if img is not None:\n",
        "                # Guardar la imagen en formato JPEG\n",
        "                new_file_path = file_path.split('.')[0] + '.jpg'\n",
        "                cv2.imwrite(new_file_path, img)\n",
        "                os.remove(file_path)  # Eliminar la imagen original\n",
        "                print(f\"Convertida {file_path} a {new_file_path}\")\n",
        "\n",
        "# Convertir las imágenes en ambas carpetas\n",
        "convert_images_to_jpeg('/content/dataset/validas')\n",
        "convert_images_to_jpeg('/content/dataset/no_validas')\n",
        "'''"
      ]
    },
    {
      "cell_type": "code",
      "execution_count": null,
      "metadata": {
        "colab": {
          "base_uri": "https://localhost:8080/"
        },
        "id": "6cj4hPa97Ixj",
        "outputId": "a2dce0c9-c602-4758-b3b2-2625eacdd463"
      },
      "outputs": [],
      "source": [
        "'''\n",
        "import os\n",
        "\n",
        "validas_dir = '/content/dataset/validas'\n",
        "no_validas_dir = '/content/dataset/no_validas'\n",
        "\n",
        "# Contar las imágenes en cada carpeta\n",
        "validas_count = len([f for f in os.listdir(validas_dir) if f.endswith(('.jpg', '.jpeg', '.png'))])\n",
        "no_validas_count = len([f for f in os.listdir(no_validas_dir) if f.endswith(('.jpg', '.jpeg', '.png'))])\n",
        "\n",
        "print(f\"Imágenes válidas: {validas_count}\")\n",
        "print(f\"Imágenes no válidas: {no_validas_count}\")\n",
        "\n",
        "validas_files = [f for f in os.listdir(validas_dir) if f.endswith(('.jpg', '.jpeg', '.png'))]\n",
        "print(validas_files)\n",
        "'''"
      ]
    },
    {
      "cell_type": "code",
      "execution_count": null,
      "metadata": {
        "colab": {
          "base_uri": "https://localhost:8080/"
        },
        "id": "2THrzkva6JBX",
        "outputId": "fee07ac8-1b8a-4f5f-9e58-b9cfa9fec72d"
      },
      "outputs": [],
      "source": [
        "import tensorflow as tf\n",
        "from tensorflow.keras.preprocessing.image import ImageDataGenerator\n",
        "from tensorflow.keras import layers, models\n",
        "import os\n",
        "\n",
        "# Define the paths to your dataset\n",
        "base_dir = '/content/dataset'  # Cambia esta ruta con el directorio de tu dataset\n",
        "\n",
        "# Directorios para imágenes válidas y no válidas\n",
        "validas_dir = os.path.join(base_dir, 'validas')\n",
        "no_validas_dir = os.path.join(base_dir, 'no_validas')\n",
        "\n",
        "# Preprocesamiento de imágenes y carga de datos\n",
        "train_datagen = ImageDataGenerator(\n",
        "    rescale=1./255,\n",
        "    shear_range=0.2,\n",
        "    zoom_range=0.2,\n",
        "    horizontal_flip=True\n",
        ")\n",
        "\n",
        "train_generator = train_datagen.flow_from_directory(\n",
        "    base_dir,\n",
        "    target_size=(150, 150),\n",
        "    batch_size=32,\n",
        "    class_mode='binary',\n",
        ")\n",
        "\n",
        "# Cambiar las etiquetas para que 'validas' sea 0 y 'no_validas' sea 1\n",
        "train_generator.class_indices = {'validas': 0, 'no_validas': 1}\n",
        "\n"
      ]
    },
    {
      "cell_type": "code",
      "execution_count": null,
      "metadata": {
        "id": "8eBY9hQc6JpC"
      },
      "outputs": [],
      "source": [
        "model = models.Sequential([\n",
        "    layers.Conv2D(32, (3, 3), activation='relu', input_shape=(150, 150, 3)),\n",
        "    layers.MaxPooling2D((2, 2)),\n",
        "\n",
        "    layers.Conv2D(64, (3, 3), activation='relu'),\n",
        "    layers.MaxPooling2D((2, 2)),\n",
        "\n",
        "    layers.Conv2D(128, (3, 3), activation='relu'),\n",
        "    layers.MaxPooling2D((2, 2)),\n",
        "\n",
        "    layers.Flatten(),\n",
        "    layers.Dense(128, activation='relu'),\n",
        "    layers.Dense(1, activation='sigmoid')  # Salida binaria (válida o no válida)\n",
        "])\n",
        "\n",
        "model.compile(optimizer='adam',\n",
        "              loss='binary_crossentropy',\n",
        "              metrics=['accuracy'])\n"
      ]
    },
    {
      "cell_type": "code",
      "execution_count": null,
      "metadata": {
        "colab": {
          "base_uri": "https://localhost:8080/"
        },
        "id": "yESvLA_g6JmI",
        "outputId": "c441a243-784a-4dbc-fb1e-c763f9f01ec4"
      },
      "outputs": [],
      "source": [
        "history = model.fit(\n",
        "    train_generator,\n",
        "    steps_per_epoch=100,  # Número de pasos por cada época\n",
        "    epochs=10,            # Número de épocas\n",
        "    verbose=1\n",
        ")\n"
      ]
    },
    {
      "cell_type": "code",
      "execution_count": null,
      "metadata": {
        "colab": {
          "base_uri": "https://localhost:8080/",
          "height": 141
        },
        "id": "UV6k1Q036Jjf",
        "outputId": "29e2954d-3b31-4c95-d6ac-0a235a23bcf3"
      },
      "outputs": [],
      "source": [
        "model.save('modelo_carnet.h5')"
      ]
    },
    {
      "cell_type": "code",
      "execution_count": null,
      "metadata": {
        "colab": {
          "base_uri": "https://localhost:8080/"
        },
        "id": "rlqMDyqv6JYs",
        "outputId": "d17c6abf-d306-4560-b7bb-5775420fb658"
      },
      "outputs": [],
      "source": [
        "from tensorflow.keras.preprocessing import image\n",
        "import numpy as np\n",
        "\n",
        "# Cargar el modelo\n",
        "model = tf.keras.models.load_model('modelo_carnet.h5')\n",
        "\n",
        "# Función para predecir si una imagen es válida\n",
        "def predecir_imagen(imagen_path):\n",
        "    img = image.load_img(imagen_path, target_size=(150, 150))  # Ajustar tamaño\n",
        "    img_array = image.img_to_array(img)  # Convertir la imagen a array\n",
        "    img_array = np.expand_dims(img_array, axis=0)  # Añadir una dimensión extra\n",
        "    img_array = img_array / 255.0  # Normalizar\n",
        "\n",
        "    prediction = model.predict(img_array)  # Predicción\n",
        "    if prediction[0] > 0.5:\n",
        "        return \"Válida\"\n",
        "    else:\n",
        "        return \"No válida\"\n",
        "\n",
        "# Usar la función\n",
        "resultado = predecir_imagen('/content/prueba5.jpg')  # Cambia la ruta de la imagen\n",
        "print(resultado)\n"
      ]
    }
  ],
  "metadata": {
    "colab": {
      "provenance": []
    },
    "kernelspec": {
      "display_name": "Python 3",
      "name": "python3"
    },
    "language_info": {
      "name": "python"
    }
  },
  "nbformat": 4,
  "nbformat_minor": 0
}
